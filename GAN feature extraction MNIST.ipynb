{
 "cells": [
  {
   "cell_type": "markdown",
   "metadata": {},
   "source": [
    "# Training the encoder using GAN"
   ]
  },
  {
   "cell_type": "code",
   "execution_count": 1,
   "metadata": {},
   "outputs": [],
   "source": [
    "import torch\n",
    "import numpy as np\n",
    "from torchvision import datasets\n",
    "import torchvision.transforms as transforms\n",
    "import torch.nn as nn\n",
    "import torch.nn.functional as F\n",
    "\n",
    "\n",
    "# to import MNIST as torch tensor\n",
    "transform = transforms.ToTensor()\n",
    "\n",
    "# load the training and test datasets\n",
    "train_data = datasets.MNIST(root='data', train=True,\n",
    "                                   download=True, transform=transform)\n",
    "test_data = datasets.MNIST(root='data', train=False,\n",
    "                                  download=True, transform=transform)"
   ]
  },
  {
   "cell_type": "code",
   "execution_count": 2,
   "metadata": {},
   "outputs": [],
   "source": [
    "# Create training and test dataloaders\n",
    "\n",
    "num_workers = 0\n",
    "# how many samples per batch to load\n",
    "batch_size = 100\n",
    "lr = 1e-4\n",
    "# how many epochs for training\n",
    "num_epochs = 40\n",
    "# latent space size\n",
    "z_dim = 10\n",
    "\n",
    "# prepare data loaders\n",
    "train_loader = torch.utils.data.DataLoader(train_data, batch_size=batch_size, num_workers=num_workers)\n",
    "test_loader = torch.utils.data.DataLoader(test_data, batch_size=batch_size, num_workers=num_workers)"
   ]
  },
  {
   "cell_type": "code",
   "execution_count": 3,
   "metadata": {},
   "outputs": [],
   "source": [
    "# create an encoder\n",
    "class Encoder(nn.Module):\n",
    "    def __init__(self):\n",
    "        super(Encoder, self).__init__()\n",
    "\n",
    "        self.model = nn.Sequential(\n",
    "            nn.Linear(28*28, 512),\n",
    "            nn.LeakyReLU(0.2, inplace=True),\n",
    "            nn.Linear(512, 100),\n",
    "            nn.BatchNorm1d(100),\n",
    "            nn.LeakyReLU(0.2, inplace=True),\n",
    "            nn.Linear(100, z_dim)\n",
    "        )\n",
    "\n",
    "    def forward(self, img):\n",
    "        img_flat = img.view(-1, 28*28)\n",
    "        z = self.model(img_flat)\n",
    "        return z"
   ]
  },
  {
   "cell_type": "code",
   "execution_count": 4,
   "metadata": {},
   "outputs": [],
   "source": [
    "# create a decoder/generation\n",
    "class Decoder(nn.Module):\n",
    "    def __init__(self):\n",
    "        super(Decoder, self).__init__()\n",
    "\n",
    "        self.model = nn.Sequential(\n",
    "            nn.Linear(z_dim, 100),\n",
    "            nn.LeakyReLU(0.2, inplace=True),\n",
    "            nn.Linear(100, 512),\n",
    "            nn.BatchNorm1d(512),\n",
    "            nn.LeakyReLU(0.2, inplace=True),\n",
    "            nn.Linear(512, 28*28),\n",
    "            nn.Sigmoid(),\n",
    "        )\n",
    "\n",
    "    def forward(self, z):\n",
    "        img_flat = self.model(z)\n",
    "        img = img_flat.view(-1, 28, 28)\n",
    "        return img"
   ]
  },
  {
   "cell_type": "code",
   "execution_count": 5,
   "metadata": {},
   "outputs": [],
   "source": [
    "# create a discriminator\n",
    "class Discriminator(nn.Module):\n",
    "    def __init__(self):\n",
    "        super(Discriminator, self).__init__()\n",
    "\n",
    "        self.model = nn.Sequential(\n",
    "            nn.Linear(z_dim, 512),\n",
    "            nn.LeakyReLU(0.2, inplace=True),\n",
    "            nn.Linear(512, 256),\n",
    "            nn.LeakyReLU(0.2, inplace=True),\n",
    "            nn.Linear(256, 1),\n",
    "            nn.Sigmoid(),\n",
    "        )\n",
    "\n",
    "    def forward(self, z):\n",
    "        validity = self.model(z)\n",
    "        return validity"
   ]
  },
  {
   "cell_type": "code",
   "execution_count": 6,
   "metadata": {},
   "outputs": [
    {
     "name": "stdout",
     "output_type": "stream",
     "text": [
      "Encoder(\n",
      "  (model): Sequential(\n",
      "    (0): Linear(in_features=784, out_features=512, bias=True)\n",
      "    (1): LeakyReLU(negative_slope=0.2, inplace=True)\n",
      "    (2): Linear(in_features=512, out_features=100, bias=True)\n",
      "    (3): BatchNorm1d(100, eps=1e-05, momentum=0.1, affine=True, track_running_stats=True)\n",
      "    (4): LeakyReLU(negative_slope=0.2, inplace=True)\n",
      "    (5): Linear(in_features=100, out_features=10, bias=True)\n",
      "  )\n",
      ") Decoder(\n",
      "  (model): Sequential(\n",
      "    (0): Linear(in_features=10, out_features=100, bias=True)\n",
      "    (1): LeakyReLU(negative_slope=0.2, inplace=True)\n",
      "    (2): Linear(in_features=100, out_features=512, bias=True)\n",
      "    (3): BatchNorm1d(512, eps=1e-05, momentum=0.1, affine=True, track_running_stats=True)\n",
      "    (4): LeakyReLU(negative_slope=0.2, inplace=True)\n",
      "    (5): Linear(in_features=512, out_features=784, bias=True)\n",
      "    (6): Sigmoid()\n",
      "  )\n",
      ") Discriminator(\n",
      "  (model): Sequential(\n",
      "    (0): Linear(in_features=10, out_features=512, bias=True)\n",
      "    (1): LeakyReLU(negative_slope=0.2, inplace=True)\n",
      "    (2): Linear(in_features=512, out_features=256, bias=True)\n",
      "    (3): LeakyReLU(negative_slope=0.2, inplace=True)\n",
      "    (4): Linear(in_features=256, out_features=1, bias=True)\n",
      "    (5): Sigmoid()\n",
      "  )\n",
      ")\n"
     ]
    }
   ],
   "source": [
    "# build a GAN model\n",
    "encoder = Encoder()\n",
    "decoder = Decoder()\n",
    "discriminator = Discriminator()\n",
    "\n",
    "# set loss function\n",
    "auto_criterion = torch.nn.MSELoss()\n",
    "gan_criterion = torch.nn.L1Loss()\n",
    "\n",
    "# choose an optimizer\n",
    "e_optimizer = torch.optim.Adam(encoder.parameters(), lr=lr, weight_decay=1e-5)\n",
    "d_optimizer = torch.optim.Adam(decoder.parameters(), lr=lr, weight_decay=1e-5)\n",
    "g_optimizer = torch.optim.Adam(encoder.parameters(), lr=lr, weight_decay=1e-5)\n",
    "d_optimizer = torch.optim.Adam(discriminator.parameters(), lr=lr,weight_decay=1e-5)\n",
    "\n",
    "\n",
    "print(encoder, decoder, discriminator)"
   ]
  },
  {
   "cell_type": "code",
   "execution_count": null,
   "metadata": {},
   "outputs": [
    {
     "name": "stderr",
     "output_type": "stream",
     "text": [
      "C:\\Users\\Hassan\\Anaconda3\\lib\\site-packages\\torch\\nn\\modules\\loss.py:431: UserWarning: Using a target size (torch.Size([100, 1, 28, 28])) that is different to the input size (torch.Size([100, 28, 28])). This will likely lead to incorrect results due to broadcasting. Please ensure they have the same size.\n",
      "  return F.mse_loss(input, target, reduction=self.reduction)\n"
     ]
    },
    {
     "name": "stdout",
     "output_type": "stream",
     "text": [
      "epoch [1/40], autoencoder loss:0.2394, discriminator loss:0.3315, generator loss:0.3462\n",
      "epoch [2/40], autoencoder loss:0.2399, discriminator loss:0.5669, generator loss:0.4479\n"
     ]
    }
   ],
   "source": [
    "### Training the model\n",
    "for epoch in range(num_epochs):\n",
    "    for data in train_loader:\n",
    "        img, _ = data\n",
    "        \n",
    "        ## Training the autoencoder\n",
    "        #--------------------------\n",
    "        # forward path\n",
    "        output = decoder(encoder(img))\n",
    "        loss_auto = auto_criterion(output, img)\n",
    "        # back propagation\n",
    "        e_optimizer.zero_grad()\n",
    "        d_optimizer.zero_grad()\n",
    "        loss_auto.backward()\n",
    "        e_optimizer.step()\n",
    "        d_optimizer.step()\n",
    "        \n",
    "        ## generating data for discriminator\n",
    "        #-----------------------------------\n",
    "        encoder.eval()\n",
    "        z_real = torch.randn(batch_size, z_dim)\n",
    "        z_fake = encoder(img)\n",
    "        \n",
    "        ## Training the discriminator\n",
    "        #----------------------------\n",
    "        # forward path\n",
    "        real_output = discriminator(z_real)\n",
    "        fake_output = discriminator(z_fake)\n",
    "        d_loss = 0.5*(gan_criterion(real_output + 0.001, torch.ones(real_output.size(), requires_grad = False) + 0.001)\n",
    "                       +gan_criterion(fake_output, torch.zeros(fake_output.size(), requires_grad = False)))\n",
    "        # back propagation\n",
    "        d_optimizer.zero_grad()\n",
    "        d_loss.backward()\n",
    "        d_optimizer.step()\n",
    "        \n",
    "        ## optimize the generator\n",
    "        #------------------------\n",
    "        encoder.train()\n",
    "        z_fake = encoder(img)\n",
    "        fake_output = discriminator(z_fake)\n",
    "        g_loss = gan_criterion(fake_output + 0.001, torch.ones(fake_output.size(), requires_grad = False)+ 0.001)\n",
    "        g_optimizer.zero_grad()\n",
    "        g_loss.backward()\n",
    "        g_optimizer.step()\n",
    "\n",
    "\n",
    "        # log\n",
    "    print('epoch [{}/{}], autoencoder loss:{:.4f}, discriminator loss:{:.4f}, generator loss:{:.4f}'\n",
    "          .format(epoch+1, num_epochs, loss_auto.item(), d_loss.item(), g_loss.item()))"
   ]
  }
 ],
 "metadata": {
  "kernelspec": {
   "display_name": "Python 3",
   "language": "python",
   "name": "python3"
  },
  "language_info": {
   "codemirror_mode": {
    "name": "ipython",
    "version": 3
   },
   "file_extension": ".py",
   "mimetype": "text/x-python",
   "name": "python",
   "nbconvert_exporter": "python",
   "pygments_lexer": "ipython3",
   "version": "3.7.4"
  }
 },
 "nbformat": 4,
 "nbformat_minor": 2
}
