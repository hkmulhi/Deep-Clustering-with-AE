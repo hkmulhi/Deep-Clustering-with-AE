{
 "cells": [
  {
   "cell_type": "markdown",
   "metadata": {},
   "source": [
    "# Training the encoder using GAN"
   ]
  },
  {
   "cell_type": "code",
   "execution_count": 1,
   "metadata": {},
   "outputs": [],
   "source": [
    "import torch\n",
    "import numpy as np\n",
    "from torchvision import datasets\n",
    "import torchvision.transforms as transforms\n",
    "import torch.nn as nn\n",
    "import torch.nn.functional as F\n",
    "\n",
    "\n",
    "# to import MNIST as torch tensor\n",
    "transform = transforms.ToTensor()\n",
    "\n",
    "# load the training and test datasets\n",
    "train_data = datasets.MNIST(root='data', train=True,\n",
    "                                   download=True, transform=transform)\n",
    "test_data = datasets.MNIST(root='data', train=False,\n",
    "                                  download=True, transform=transform)"
   ]
  },
  {
   "cell_type": "code",
   "execution_count": 2,
   "metadata": {},
   "outputs": [],
   "source": [
    "# Create training and test dataloaders\n",
    "\n",
    "num_workers = 0\n",
    "# how many samples per batch to load\n",
    "batch_size = 100\n",
    "lr = 1e-4\n",
    "# how many epochs for training\n",
    "num_epochs = 40\n",
    "# latent space size\n",
    "z_dim = 10\n",
    "\n",
    "# prepare data loaders\n",
    "train_loader = torch.utils.data.DataLoader(train_data, batch_size=batch_size, num_workers=num_workers)\n",
    "test_loader = torch.utils.data.DataLoader(test_data, batch_size=batch_size, num_workers=num_workers)"
   ]
  },
  {
   "cell_type": "code",
   "execution_count": 3,
   "metadata": {},
   "outputs": [],
   "source": [
    "# create an encoder\n",
    "class Encoder(nn.Module):\n",
    "    def __init__(self):\n",
    "        super(Encoder, self).__init__()\n",
    "\n",
    "        self.model = nn.Sequential(\n",
    "            nn.Linear(28*28, 512),\n",
    "            nn.LeakyReLU(0.2, inplace=True),\n",
    "            nn.Linear(512, 100),\n",
    "            nn.BatchNorm1d(100),\n",
    "            nn.LeakyReLU(0.2, inplace=True),\n",
    "            nn.Linear(100, z_dim)\n",
    "        )\n",
    "\n",
    "    def forward(self, img):\n",
    "        img_flat = img.view(-1, 28*28)\n",
    "        z = self.model(img_flat)\n",
    "        return z"
   ]
  },
  {
   "cell_type": "code",
   "execution_count": 4,
   "metadata": {},
   "outputs": [],
   "source": [
    "# create a decoder/generation\n",
    "class Decoder(nn.Module):\n",
    "    def __init__(self):\n",
    "        super(Decoder, self).__init__()\n",
    "\n",
    "        self.model = nn.Sequential(\n",
    "            nn.Linear(z_dim, 100),\n",
    "            nn.LeakyReLU(0.2, inplace=True),\n",
    "            nn.Linear(100, 512),\n",
    "            nn.BatchNorm1d(512),\n",
    "            nn.LeakyReLU(0.2, inplace=True),\n",
    "            nn.Linear(512, 28*28),\n",
    "            nn.Tanh(),\n",
    "        )\n",
    "\n",
    "    def forward(self, z):\n",
    "        img_flat = self.model(z)\n",
    "        img = img_flat.view(-1, 28, 28)\n",
    "        return img"
   ]
  },
  {
   "cell_type": "code",
   "execution_count": 5,
   "metadata": {},
   "outputs": [],
   "source": [
    "# create a discriminator\n",
    "class Discriminator(nn.Module):\n",
    "    def __init__(self):\n",
    "        super(Discriminator, self).__init__()\n",
    "\n",
    "        self.model = nn.Sequential(\n",
    "            nn.Linear(z_dim, 512),\n",
    "            nn.LeakyReLU(0.2, inplace=True),\n",
    "            nn.Linear(512, 256),\n",
    "            nn.LeakyReLU(0.2, inplace=True),\n",
    "            nn.Linear(256, 1),\n",
    "            nn.Sigmoid(),\n",
    "        )\n",
    "\n",
    "    def forward(self, z):\n",
    "        validity = self.model(z)\n",
    "        return validity"
   ]
  },
  {
   "cell_type": "code",
   "execution_count": 6,
   "metadata": {},
   "outputs": [
    {
     "name": "stdout",
     "output_type": "stream",
     "text": [
      "Encoder(\n",
      "  (model): Sequential(\n",
      "    (0): Linear(in_features=784, out_features=512, bias=True)\n",
      "    (1): LeakyReLU(negative_slope=0.2, inplace=True)\n",
      "    (2): Linear(in_features=512, out_features=100, bias=True)\n",
      "    (3): BatchNorm1d(100, eps=1e-05, momentum=0.1, affine=True, track_running_stats=True)\n",
      "    (4): LeakyReLU(negative_slope=0.2, inplace=True)\n",
      "    (5): Linear(in_features=100, out_features=10, bias=True)\n",
      "  )\n",
      ") Decoder(\n",
      "  (model): Sequential(\n",
      "    (0): Linear(in_features=10, out_features=100, bias=True)\n",
      "    (1): LeakyReLU(negative_slope=0.2, inplace=True)\n",
      "    (2): Linear(in_features=100, out_features=512, bias=True)\n",
      "    (3): BatchNorm1d(512, eps=1e-05, momentum=0.1, affine=True, track_running_stats=True)\n",
      "    (4): LeakyReLU(negative_slope=0.2, inplace=True)\n",
      "    (5): Linear(in_features=512, out_features=784, bias=True)\n",
      "    (6): Tanh()\n",
      "  )\n",
      ") Discriminator(\n",
      "  (model): Sequential(\n",
      "    (0): Linear(in_features=10, out_features=512, bias=True)\n",
      "    (1): LeakyReLU(negative_slope=0.2, inplace=True)\n",
      "    (2): Linear(in_features=512, out_features=256, bias=True)\n",
      "    (3): LeakyReLU(negative_slope=0.2, inplace=True)\n",
      "    (4): Linear(in_features=256, out_features=1, bias=True)\n",
      "    (5): Sigmoid()\n",
      "  )\n",
      ")\n"
     ]
    }
   ],
   "source": [
    "# build a GAN model\n",
    "encoder = Encoder()\n",
    "decoder = Decoder()\n",
    "discriminator = Discriminator()\n",
    "\n",
    "# set loss function\n",
    "auto_criterion = torch.nn.MSELoss()\n",
    "gan_criterion = torch.nn.L1Loss()\n",
    "\n",
    "# choose an optimizer\n",
    "e_optimizer = torch.optim.Adam(encoder.parameters(), lr=lr, weight_decay=1e-5)\n",
    "d_optimizer = torch.optim.Adam(decoder.parameters(), lr=lr, weight_decay=1e-5)\n",
    "g_optimizer = torch.optim.Adam(encoder.parameters(), lr=lr, weight_decay=1e-5)\n",
    "d_optimizer = torch.optim.Adam(discriminator.parameters(), lr=lr,weight_decay=1e-5)\n",
    "\n",
    "\n",
    "print(encoder, decoder, discriminator)"
   ]
  },
  {
   "cell_type": "code",
   "execution_count": 7,
   "metadata": {},
   "outputs": [
    {
     "name": "stderr",
     "output_type": "stream",
     "text": [
      "C:\\Users\\Hassan\\Anaconda3\\lib\\site-packages\\torch\\nn\\modules\\loss.py:431: UserWarning: Using a target size (torch.Size([100, 1, 28, 28])) that is different to the input size (torch.Size([100, 28, 28])). This will likely lead to incorrect results due to broadcasting. Please ensure they have the same size.\n",
      "  return F.mse_loss(input, target, reduction=self.reduction)\n"
     ]
    },
    {
     "name": "stdout",
     "output_type": "stream",
     "text": [
      "epoch [1/40], autoencoder loss:0.1855, discriminator loss:0.2120, generator loss:0.3386\n",
      "epoch [2/40], autoencoder loss:0.1723, discriminator loss:0.1775, generator loss:0.5018\n",
      "epoch [3/40], autoencoder loss:0.2146, discriminator loss:0.2592, generator loss:0.1360\n",
      "epoch [4/40], autoencoder loss:0.1846, discriminator loss:0.2704, generator loss:0.1931\n",
      "epoch [5/40], autoencoder loss:0.1932, discriminator loss:0.2497, generator loss:0.1890\n",
      "epoch [6/40], autoencoder loss:0.2103, discriminator loss:0.2621, generator loss:0.2400\n",
      "epoch [7/40], autoencoder loss:0.2093, discriminator loss:0.2167, generator loss:0.2751\n",
      "epoch [8/40], autoencoder loss:0.2009, discriminator loss:0.2501, generator loss:0.3044\n",
      "epoch [9/40], autoencoder loss:0.2014, discriminator loss:0.2205, generator loss:0.3958\n",
      "epoch [10/40], autoencoder loss:0.1906, discriminator loss:0.2227, generator loss:0.3678\n",
      "epoch [11/40], autoencoder loss:0.1914, discriminator loss:0.2444, generator loss:0.3953\n",
      "epoch [12/40], autoencoder loss:0.1751, discriminator loss:0.2148, generator loss:0.3438\n",
      "epoch [13/40], autoencoder loss:0.1742, discriminator loss:0.2326, generator loss:0.3888\n",
      "epoch [14/40], autoencoder loss:0.1558, discriminator loss:0.2612, generator loss:0.3182\n",
      "epoch [15/40], autoencoder loss:0.1542, discriminator loss:0.2401, generator loss:0.3698\n",
      "epoch [16/40], autoencoder loss:0.1477, discriminator loss:0.2171, generator loss:0.3816\n",
      "epoch [17/40], autoencoder loss:0.1404, discriminator loss:0.2549, generator loss:0.2586\n",
      "epoch [18/40], autoencoder loss:0.1390, discriminator loss:0.2513, generator loss:0.3370\n",
      "epoch [19/40], autoencoder loss:0.1333, discriminator loss:0.2546, generator loss:0.3442\n",
      "epoch [20/40], autoencoder loss:0.1320, discriminator loss:0.2531, generator loss:0.3783\n",
      "epoch [21/40], autoencoder loss:0.1309, discriminator loss:0.2617, generator loss:0.3685\n",
      "epoch [22/40], autoencoder loss:0.1316, discriminator loss:0.2361, generator loss:0.4394\n",
      "epoch [23/40], autoencoder loss:0.1285, discriminator loss:0.2131, generator loss:0.4326\n",
      "epoch [24/40], autoencoder loss:0.1244, discriminator loss:0.2488, generator loss:0.3572\n",
      "epoch [25/40], autoencoder loss:0.1243, discriminator loss:0.2514, generator loss:0.3958\n",
      "epoch [26/40], autoencoder loss:0.1220, discriminator loss:0.2359, generator loss:0.4425\n",
      "epoch [27/40], autoencoder loss:0.1207, discriminator loss:0.2211, generator loss:0.3911\n",
      "epoch [28/40], autoencoder loss:0.1214, discriminator loss:0.2224, generator loss:0.3648\n",
      "epoch [29/40], autoencoder loss:0.1222, discriminator loss:0.1970, generator loss:0.4855\n",
      "epoch [30/40], autoencoder loss:0.1201, discriminator loss:0.2350, generator loss:0.4185\n",
      "epoch [31/40], autoencoder loss:0.1201, discriminator loss:0.2198, generator loss:0.4572\n",
      "epoch [32/40], autoencoder loss:0.1213, discriminator loss:0.2322, generator loss:0.3033\n",
      "epoch [33/40], autoencoder loss:0.1218, discriminator loss:0.2415, generator loss:0.4264\n",
      "epoch [34/40], autoencoder loss:0.1216, discriminator loss:0.2732, generator loss:0.4271\n",
      "epoch [35/40], autoencoder loss:0.1192, discriminator loss:0.2449, generator loss:0.3981\n",
      "epoch [36/40], autoencoder loss:0.1214, discriminator loss:0.2413, generator loss:0.4334\n",
      "epoch [37/40], autoencoder loss:0.1210, discriminator loss:0.2104, generator loss:0.4240\n",
      "epoch [38/40], autoencoder loss:0.1209, discriminator loss:0.2429, generator loss:0.3956\n",
      "epoch [39/40], autoencoder loss:0.1225, discriminator loss:0.2272, generator loss:0.4365\n",
      "epoch [40/40], autoencoder loss:0.1209, discriminator loss:0.2350, generator loss:0.4129\n"
     ]
    }
   ],
   "source": [
    "### Training the model\n",
    "for epoch in range(num_epochs):\n",
    "    for data in train_loader:\n",
    "        img, _ = data\n",
    "        \n",
    "        ## Training the autoencoder\n",
    "        #--------------------------\n",
    "        # forward path\n",
    "        output = decoder(encoder(img))\n",
    "        loss_auto = auto_criterion(output, img)\n",
    "        # back propagation\n",
    "        e_optimizer.zero_grad()\n",
    "        d_optimizer.zero_grad()\n",
    "        loss_auto.backward()\n",
    "        e_optimizer.step()\n",
    "        d_optimizer.step()\n",
    "        \n",
    "        ## generating data for discriminator\n",
    "        #-----------------------------------\n",
    "        encoder.eval()\n",
    "        z_real = torch.randn(batch_size, z_dim)\n",
    "        z_fake = encoder(img)\n",
    "        \n",
    "        ## Training the discriminator\n",
    "        #----------------------------\n",
    "        # forward path\n",
    "        real_output = discriminator(z_real)\n",
    "        fake_output = discriminator(z_fake)\n",
    "        d_loss = 0.5*(auto_criterion(real_output + 0.001, torch.ones(real_output.size(), requires_grad = False) + 0.001)\n",
    "                       +auto_criterion(fake_output, torch.zeros(fake_output.size(), requires_grad = False)))\n",
    "        # back propagation\n",
    "        d_optimizer.zero_grad()\n",
    "        d_loss.backward()\n",
    "        d_optimizer.step()\n",
    "        \n",
    "        ## optimize the generator\n",
    "        #------------------------\n",
    "        encoder.train()\n",
    "        z_fake = encoder(img)\n",
    "        fake_output = discriminator(z_fake)\n",
    "        g_loss = auto_criterion(fake_output + 0.001, torch.ones(fake_output.size(), requires_grad = False)+ 0.001)\n",
    "        g_optimizer.zero_grad()\n",
    "        g_loss.backward()\n",
    "        g_optimizer.step()\n",
    "\n",
    "\n",
    "        # log\n",
    "    print('epoch [{}/{}], autoencoder loss:{:.4f}, discriminator loss:{:.4f}, generator loss:{:.4f}'\n",
    "          .format(epoch+1, num_epochs, loss_auto.item(), d_loss.item(), g_loss.item()))"
   ]
  },
  {
   "cell_type": "markdown",
   "metadata": {},
   "source": [
    "## visualizing reconstructed results\n",
    "### NOTE TO SELF: to be automated through DV"
   ]
  },
  {
   "cell_type": "code",
   "execution_count": 10,
   "metadata": {},
   "outputs": [
    {
     "data": {
      "image/png": "[encoded data removed]",
      "text/plain": [
       "<Figure size 1800x288 with 20 Axes>"
      ]
     },
     "metadata": {
      "needs_background": "light"
     },
     "output_type": "display_data"
    }
   ],
   "source": [
    "import matplotlib.pyplot as plt\n",
    "\n",
    "dataiter = iter(test_loader)\n",
    "images, labels = dataiter.next()\n",
    "\n",
    "# get sample outputs\n",
    "output = decoder(encoder(images))\n",
    "# prep images for display\n",
    "images = images.numpy() # output is resized into a batch of iages\n",
    "output = output.view(batch_size, 1, 28, 28)\n",
    "# use detach when it's an output that requires_grad\n",
    "output = output.detach().numpy()\n",
    "\n",
    "# plot the first ten input images and then reconstructed images\n",
    "fig, axes = plt.subplots(nrows=2, ncols=10, sharex=True, sharey=True, figsize=(25,4))\n",
    "\n",
    "# input images on top row, reconstructions on bottom\n",
    "for images, row in zip([images, output], axes):\n",
    "    for img, ax in zip(images, row):\n",
    "        ax.imshow(np.squeeze(img), cmap='gray')\n",
    "        ax.get_xaxis().set_visible(False)\n",
    "        ax.get_yaxis().set_visible(False)\n",
    "plt.show()"
   ]
  },
  {
   "cell_type": "code",
   "execution_count": null,
   "metadata": {},
   "outputs": [],
   "source": []
  }
 ],
 "metadata": {
  "kernelspec": {
   "display_name": "Python 3",
   "language": "python",
   "name": "python3"
  },
  "language_info": {
   "codemirror_mode": {
    "name": "ipython",
    "version": 3
   },
   "file_extension": ".py",
   "mimetype": "text/x-python",
   "name": "python",
   "nbconvert_exporter": "python",
   "pygments_lexer": "ipython3",
   "version": "3.7.4"
  }
 },
 "nbformat": 4,
 "nbformat_minor": 2
}
