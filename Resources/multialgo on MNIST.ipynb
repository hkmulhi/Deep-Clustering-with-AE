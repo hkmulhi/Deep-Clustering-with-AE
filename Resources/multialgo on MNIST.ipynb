{
 "cells": [
  {
   "cell_type": "markdown",
   "metadata": {},
   "source": [
    "# multiple algorithms on MNIST"
   ]
  },
  {
   "cell_type": "code",
   "execution_count": null,
   "metadata": {},
   "outputs": [],
   "source": [
    "import numpy as np\n",
    "from torchvision import datasets\n",
    "import torchvision.transforms as transforms\n",
    "import time\n",
    "\n",
    "# to import MNIST as torch tensor\n",
    "transform = transforms.ToTensor()\n",
    "\n",
    "# load the training and test datasets\n",
    "train_set = datasets.MNIST(root='data', train=True,\n",
    "                                   download=True, transform=transform)\n",
    "test_set = datasets.MNIST(root='data', train=False,\n",
    "                                  download=True, transform=transform)\n",
    "train_data = train_set.data.numpy()\n",
    "train_labels = train_set.targets.numpy()\n",
    "test_data = test_set.data.numpy()\n",
    "test_labels = test_set.targets.numpy()"
   ]
  },
  {
   "cell_type": "markdown",
   "metadata": {},
   "source": [
    "## clustering model instantiation and training"
   ]
  },
  {
   "cell_type": "code",
   "execution_count": null,
   "metadata": {},
   "outputs": [],
   "source": [
    "from sklearn.cluster import KMeans, AgglomerativeClustering, DBSCAN\n",
    "\n",
    "# create a k-means model\n",
    "kmeans_model = KMeans(n_clusters=10, tol = 1e-4, max_iter = 400).fit(train_data.reshape(-1, 28*28))"
   ]
  },
  {
   "cell_type": "code",
   "execution_count": null,
   "metadata": {},
   "outputs": [],
   "source": [
    "# create a hierarchical model\n",
    "hier_model = AgglomerativeClustering(n_clusters=10).fit(train_data.reshape(-1, 28*28))"
   ]
  },
  {
   "cell_type": "code",
   "execution_count": null,
   "metadata": {},
   "outputs": [],
   "source": [
    "# create a density-based model\n",
    "density_model = DBSCAN().fit(train_data.reshape(-1, 28*28))"
   ]
  },
  {
   "cell_type": "code",
   "execution_count": null,
   "metadata": {},
   "outputs": [],
   "source": [
    "kmeans_labels_pred = kmeans_model.predict(test_data.reshape(-1, 28*28))\n",
    "hier_labels_pred = hier_model.predict(test_data.reshape(-1, 28*28))\n",
    "density_labels_pred = density_model.predict(test_data.reshape(-1, 28*28))"
   ]
  },
  {
   "cell_type": "markdown",
   "metadata": {},
   "source": [
    "## performance evaluation"
   ]
  },
  {
   "cell_type": "code",
   "execution_count": null,
   "metadata": {},
   "outputs": [],
   "source": [
    "import import_ipynb\n",
    "import DataVisuals as dv\n",
    "def metric_calc(train_labels, model_labels, test_labels, pred_labels):\n",
    "    train_metric = dv.Metrics(train_labels, model_labels)\n",
    "    test_metric = dv.Metrics(test_labels, pred_labels)\n",
    "    return train_metric.nmi(), train_metric.ari(), train_metric.acc(), test_metric.nmi(), test_metric.ari(), test_metric.acc()"
   ]
  },
  {
   "cell_type": "code",
   "execution_count": null,
   "metadata": {},
   "outputs": [],
   "source": [
    "kmeans_train_nmi, kmeans_train_ari, kmeans_train_acc, kmeans_test_nmi, kmeans_test_ari, kmeans_test_acc\n",
    "      = metric_calc(train_labels, kmeans_model.labels_, test_labels, kmeans_pred_labels)\n",
    "hier_train_nmi, hier_train_ari, hier_train_acc, hier_test_nmi, hier_test_ari, hier_test_acc\n",
    "      = metric_calc(train_labels, hier_model.labels_, test_labels, hier_pred_labels)\n",
    "density_train_nmi, density_train_ari, density_train_acc, density_test_nmi, density_test_ari, density_test_acc\n",
    "      = metric_calc(train_labels, density_model.labels_, test_labels, density_pred_labels)"
   ]
  },
  {
   "cell_type": "code",
   "execution_count": null,
   "metadata": {},
   "outputs": [],
   "source": [
    "from tabulate import tabulate\n",
    "print(tabulate([['K-Means', kmeans_train_nmi, kmeans_train_ari, kmeans_train_acc], \n",
    "                ['Hierarchical', hier_train_nmi, hier_train_ari, hier_train_acc], \n",
    "                ['Density based', density_train_nmi, density_train_ari, density_train_acc]]\n",
    "    , headers=['Algorithms', 'Normalized Mutual Information', 'Adjusted Rand Index', 'Accuracy']))"
   ]
  },
  {
   "cell_type": "code",
   "execution_count": null,
   "metadata": {},
   "outputs": [],
   "source": [
    "print('Test clustering results:\\n=======================')\n",
    "print(tabulate([['K-Means', kmeans_test_nmi, kmeans_test_ari, kmeans_test_acc], \n",
    "                ['Hierarchical', hier_test_nmi, hier_test_ari, hier_test_acc], \n",
    "                ['Density based', density_test_nmi, density_test_ari, density_test_acc]]\n",
    "    , headers=['Algorithms', 'Normalized Mutual Information', 'Adjusted Rand Index', 'Accuracy']))"
   ]
  },
  {
   "cell_type": "code",
   "execution_count": null,
   "metadata": {},
   "outputs": [],
   "source": []
  }
 ],
 "metadata": {
  "kernelspec": {
   "display_name": "Python 3",
   "language": "python",
   "name": "python3"
  },
  "language_info": {
   "codemirror_mode": {
    "name": "ipython",
    "version": 3
   },
   "file_extension": ".py",
   "mimetype": "text/x-python",
   "name": "python",
   "nbconvert_exporter": "python",
   "pygments_lexer": "ipython3",
   "version": "3.7.4"
  }
 },
 "nbformat": 4,
 "nbformat_minor": 2
}
